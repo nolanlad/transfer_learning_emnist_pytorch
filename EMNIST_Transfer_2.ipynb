{
  "nbformat": 4,
  "nbformat_minor": 0,
  "metadata": {
    "colab": {
      "name": "EMNIST Transfer 2.ipynb",
      "provenance": []
    },
    "kernelspec": {
      "name": "python3",
      "display_name": "Python 3"
    },
    "language_info": {
      "name": "python"
    }
  },
  "cells": [
    {
      "cell_type": "markdown",
      "metadata": {
        "id": "6D3C0IQXGgLT"
      },
      "source": [
        "# Character recognition with transfer learning in PyTorch\n",
        "\n",
        "This is an example of using transfer learning on a character recognition task.\n",
        "We used the pretrained resnet18 architecture to predict on the EMNIST database, which achieves an accuracy of ~%82."
      ]
    },
    {
      "cell_type": "code",
      "metadata": {
        "id": "oFJ7nnwO1kBF"
      },
      "source": [
        "import torch\n",
        "from torchvision import transforms\n",
        "import torchvision\n",
        "import torchvision.models as models"
      ],
      "execution_count": 1,
      "outputs": []
    },
    {
      "cell_type": "code",
      "metadata": {
        "id": "xfdHj2580xk7"
      },
      "source": [
        "#Download the pretrained resnet18 model\n",
        "resnet18 = models.resnet18(pretrained=True)\n",
        "\n"
      ],
      "execution_count": 2,
      "outputs": []
    },
    {
      "cell_type": "code",
      "metadata": {
        "id": "asnNd3Ax0hiT"
      },
      "source": [
        "preprocess = torchvision.transforms.Compose([\n",
        "                      torchvision.transforms.ToTensor(),\n",
        "                      \n",
        "                      torchvision.transforms.Lambda(lambda x: torch.cat([x, x, x], 0)), # Transform the 1 channel imges to 3 channel\n",
        "                    \n",
        "                      torchvision.transforms.Lambda(lambda x: torch.transpose(x,1,2)), # Transpose the letters so that they are human readable\n",
        "                      \n",
        "])\n"
      ],
      "execution_count": 3,
      "outputs": []
    },
    {
      "cell_type": "code",
      "metadata": {
        "colab": {
          "base_uri": "https://localhost:8080/"
        },
        "id": "IJN-L94H0sdT",
        "outputId": "b775a6a6-0f75-4c5d-f7db-fc01ea8bd318"
      },
      "source": [
        "from torchvision import datasets\n",
        "ds_train = datasets.EMNIST(root='./emnist_data/', split = 'letters', train=True, transform=preprocess, download=True)\n",
        "ds_test = datasets.EMNIST(root='./emnist_data/', split = 'letters', train=False, transform=preprocess, download=True)\n",
        "from torch.utils.data import Dataset, DataLoader\n",
        "\n",
        "dl_train = DataLoader(ds_train,batch_size=200,shuffle=True)\n",
        "dl_test = DataLoader(ds_test,batch_size=200,shuffle=True)"
      ],
      "execution_count": 4,
      "outputs": [
        {
          "output_type": "stream",
          "name": "stderr",
          "text": [
            "/usr/local/lib/python3.7/dist-packages/torchvision/datasets/mnist.py:498: UserWarning: The given NumPy array is not writeable, and PyTorch does not support non-writeable tensors. This means you can write to the underlying (supposedly non-writeable) NumPy array using the tensor. You may want to copy the array to protect its data or make it writeable before converting it to a tensor. This type of warning will be suppressed for the rest of this program. (Triggered internally at  /pytorch/torch/csrc/utils/tensor_numpy.cpp:180.)\n",
            "  return torch.from_numpy(parsed.astype(m[2], copy=False)).view(*s)\n"
          ]
        }
      ]
    },
    {
      "cell_type": "code",
      "metadata": {
        "id": "bOAouoQo0tRh"
      },
      "source": [
        "# freeze the layers of the resnet model \n",
        "resnet2 = resnet18\n",
        "\n",
        "for param in resnet18.parameters():\n",
        "  param.requires_grad = False"
      ],
      "execution_count": 6,
      "outputs": []
    },
    {
      "cell_type": "code",
      "metadata": {
        "id": "hCX4VOu-2f5X"
      },
      "source": [
        "from torch import nn, optim\n",
        "\n",
        "# The model is fully convolutional in order to be generalized and be used in the future on \n",
        "# handwriting analysis tasks\n",
        "\n",
        "class Transfer2(nn.Module):\n",
        "    def __init__(self):\n",
        "        super(Transfer2, self).__init__()\n",
        "        \n",
        "        self.resnet = resnet2\n",
        "        self.relu = nn.ReLU()\n",
        "        self.avgpool = nn.AdaptiveMaxPool2d((1,1))\n",
        "        self.hidden1 = nn.Linear(128,64)\n",
        "        # self.hidden2 = nn.Linear(100,64)\n",
        "        self.output = nn.Linear(64,26)\n",
        "        self.logsoftmax = nn.Softmax(dim=1)\n",
        "        self.dropout = nn.Dropout(0.15)\n",
        "    \n",
        "    def forward(self,x):\n",
        "        x = self.resnet.conv1(x)\n",
        "        x = self.resnet.bn1(x)\n",
        "        x = self.resnet.relu(x)\n",
        "        x = self.resnet.maxpool(x)\n",
        "        x = self.resnet.layer1(x)\n",
        "        x = self.resnet.layer2(x)\n",
        "        x = self.avgpool(x)\n",
        "        x = x.view(-1,128)\n",
        "        #x = self.dropout(x)\n",
        "        x = self.relu(x)\n",
        "        x = self.hidden1(x)\n",
        "        # x = self.hidden2(x)\n",
        "        x = self.relu(x)\n",
        "        x = self.output(x)\n",
        "        x = self.logsoftmax(x)\n",
        "        return x\n",
        "\n",
        "# n_classes = 27"
      ],
      "execution_count": 5,
      "outputs": []
    },
    {
      "cell_type": "code",
      "metadata": {
        "colab": {
          "base_uri": "https://localhost:8080/"
        },
        "id": "m7TJuJL62lDb",
        "outputId": "759beb5b-3020-41c6-c34a-e1a81b4bca3f"
      },
      "source": [
        "from torch import nn, optim\n",
        "net = Transfer2()\n",
        "\n",
        "# x = DataLoader(ds,batch_size=200,shuffle=True)\n",
        "criterion = nn.MSELoss()\n",
        "\n",
        "optimizer = optim.Adam(net.parameters())\n",
        "\n",
        "#function to turn integers into one-hot vectors\n",
        "def hotvecs(batch,n_classes):\n",
        "  out = torch.zeros((batch.shape[0],n_classes),dtype=torch.float32)\n",
        "  ids2 = torch.arange(batch.shape[0])\n",
        "  out[ids2,batch] = 1.\n",
        "  return out\n",
        "\n",
        "\n",
        "\n",
        "for epoch in range(3):\n",
        "  for i,(train_features,train_labels) in enumerate(dl_train):\n",
        "    optimizer.zero_grad()\n",
        "    out = net(train_features)\n",
        "    loss = criterion(out,hotvecs(train_labels-1,26))\n",
        "    loss.backward()\n",
        "    optimizer.step()\n",
        "    if i%100 == 0:\n",
        "      print(loss,epoch)"
      ],
      "execution_count": 7,
      "outputs": [
        {
          "output_type": "stream",
          "name": "stderr",
          "text": [
            "/usr/local/lib/python3.7/dist-packages/torch/nn/functional.py:718: UserWarning: Named tensors and all their associated APIs are an experimental feature and subject to change. Please do not use them for anything important until they are released as stable. (Triggered internally at  /pytorch/c10/core/TensorImpl.h:1156.)\n",
            "  return torch.max_pool2d(input, kernel_size, stride, padding, dilation, ceil_mode)\n"
          ]
        },
        {
          "output_type": "stream",
          "name": "stdout",
          "text": [
            "tensor(0.0370, grad_fn=<MseLossBackward>) 0\n",
            "tensor(0.0323, grad_fn=<MseLossBackward>) 0\n",
            "tensor(0.0233, grad_fn=<MseLossBackward>) 0\n",
            "tensor(0.0179, grad_fn=<MseLossBackward>) 0\n",
            "tensor(0.0170, grad_fn=<MseLossBackward>) 0\n",
            "tensor(0.0126, grad_fn=<MseLossBackward>) 0\n",
            "tensor(0.0142, grad_fn=<MseLossBackward>) 0\n",
            "tensor(0.0122, grad_fn=<MseLossBackward>) 1\n",
            "tensor(0.0124, grad_fn=<MseLossBackward>) 1\n",
            "tensor(0.0098, grad_fn=<MseLossBackward>) 1\n",
            "tensor(0.0103, grad_fn=<MseLossBackward>) 1\n",
            "tensor(0.0113, grad_fn=<MseLossBackward>) 1\n",
            "tensor(0.0107, grad_fn=<MseLossBackward>) 1\n",
            "tensor(0.0127, grad_fn=<MseLossBackward>) 1\n",
            "tensor(0.0119, grad_fn=<MseLossBackward>) 2\n",
            "tensor(0.0090, grad_fn=<MseLossBackward>) 2\n",
            "tensor(0.0116, grad_fn=<MseLossBackward>) 2\n",
            "tensor(0.0108, grad_fn=<MseLossBackward>) 2\n",
            "tensor(0.0086, grad_fn=<MseLossBackward>) 2\n",
            "tensor(0.0115, grad_fn=<MseLossBackward>) 2\n",
            "tensor(0.0119, grad_fn=<MseLossBackward>) 2\n"
          ]
        }
      ]
    },
    {
      "cell_type": "code",
      "metadata": {
        "colab": {
          "base_uri": "https://localhost:8080/",
          "height": 283
        },
        "id": "iXh709mT4KCW",
        "outputId": "789441a8-982e-443e-dfeb-289753d0fed8"
      },
      "source": [
        "# validate on training data\n",
        "train_features, train_labels = next(iter(dl_test))\n",
        "z = net(train_features)\n",
        "from sklearn.metrics import confusion_matrix\n",
        "\n",
        "A = confusion_matrix(train_labels-1,torch.argmax(z,axis=1))\n",
        "\n",
        "import matplotlib.pyplot as plt \n",
        "\n",
        "plt.imshow(A)\n",
        "\n",
        "plt.show()\n",
        "\n",
        "print('accuracy = ',torch.sum((train_labels-1)==torch.argmax(z,axis=1))/200)"
      ],
      "execution_count": 29,
      "outputs": [
        {
          "output_type": "display_data",
          "data": {
            "image/png": "[encoded data removed]",
            "text/plain": [
              "<Figure size 432x288 with 1 Axes>"
            ]
          },
          "metadata": {
            "needs_background": "light"
          }
        },
        {
          "output_type": "stream",
          "name": "stdout",
          "text": [
            "accuracy =  tensor(0.8500)\n"
          ]
        }
      ]
    },
    {
      "cell_type": "code",
      "metadata": {
        "id": "QVGAl2EL6uGV"
      },
      "source": [
        "right = 0\n",
        "total = 0\n",
        "for train_features, train_labels in dl_test:\n",
        "  z = net(train_features)\n",
        "  correct = torch.sum((train_labels-1)==torch.argmax(z,axis=1))\n",
        "  right+=correct \n",
        "  total+=len(train_labels)"
      ],
      "execution_count": 30,
      "outputs": []
    },
    {
      "cell_type": "code",
      "metadata": {
        "colab": {
          "base_uri": "https://localhost:8080/"
        },
        "id": "Od1KKQvqI3e4",
        "outputId": "111d582b-e50f-49e3-cdf8-4a812bf3857a"
      },
      "source": [
        "print('test accuracy = %.3f'%float(right/total))"
      ],
      "execution_count": 34,
      "outputs": [
        {
          "output_type": "stream",
          "name": "stdout",
          "text": [
            "test accuracy = 0.826\n"
          ]
        }
      ]
    }
  ]
}